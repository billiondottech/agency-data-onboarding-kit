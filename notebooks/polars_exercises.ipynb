{
  "nbformat": 4,
  "nbformat_minor": 0,
  "metadata": {
    "colab": {
      "provenance": [],
      "toc_visible": true
    },
    "kernelspec": {
      "name": "python3",
      "display_name": "Python 3"
    },
    "language_info": {
      "name": "python"
    }
  },
  "cells": [
    {
      "cell_type": "markdown",
      "metadata": {
        "id": "header"
      },
      "source": [
        "# 🎯 Polars Exercises for Agency Operators\n",
        "\n",
        "**Learn by doing!** These exercises are designed for real-world agency scenarios.\n",
        "\n",
        "---\n",
        "\n",
        "## 🎓 What You'll Learn\n",
        "\n",
        "By completing these exercises, you'll be able to:\n",
        "\n",
        "1. ✅ **Segment contacts** by industry, title, or company size\n",
        "2. ✅ **Create custom reports** showing data quality metrics\n",
        "3. ✅ **Flag high-value contacts** (executives, specific companies)\n",
        "4. ✅ **Build completeness scores** for prioritizing outreach\n",
        "5. ✅ **Extract insights** from messy data (domains, seniority levels)\n",
        "6. ✅ **Validate data** against your own business rules\n",
        "7. ✅ **Enrich contacts** with calculated fields\n",
        "\n",
        "---\n",
        "\n",
        "## 📝 How This Works\n",
        "\n",
        "Each exercise has:\n",
        "- 🎯 **Scenario** - A real agency problem\n",
        "- 💡 **Your Task** - What you need to build\n",
        "- 🔑 **Hints** - Tips to get you started\n",
        "- ✅ **Solution** - Hidden in collapsed cells (try first!)\n",
        "- 🚀 **Extension** - Take it further\n",
        "\n",
        "---\n",
        "\n",
        "## ⏱️ Time Commitment\n",
        "\n",
        "- **Quick path:** 30 minutes (do exercises 1-3)\n",
        "- **Full path:** 60 minutes (do all 8 exercises)\n",
        "\n",
        "---\n",
        "\n",
        "**Ready? Let's go!** 🚀"
      ]
    },
    {
      "cell_type": "markdown",
      "metadata": {
        "id": "setup"
      },
      "source": [
        "## Setup: Install Polars & Load Data"
      ]
    },
    {
      "cell_type": "code",
      "execution_count": null,
      "metadata": {
        "id": "install"
      },
      "outputs": [],
      "source": [
        "# Install Polars\n",
        "!pip install polars -q\n",
        "\n",
        "import polars as pl\n",
        "import re\n",
        "\n",
        "print(\"✅ Setup complete!\")"
      ]
    },
    {
      "cell_type": "code",
      "execution_count": null,
      "metadata": {
        "id": "load-data"
      },
      "outputs": [],
      "source": [
        "# Load sample contacts data\n",
        "url = \"https://raw.githubusercontent.com/billiondottech/agency-data-onboarding-kit/main/samples/contacts_messy.csv\"\n",
        "df = pl.read_csv(url)\n",
        "\n",
        "# Basic cleaning (from the main notebook)\n",
        "df = df.rename({col: col.strip().lower().replace(\" \", \"_\") for col in df.columns})\n",
        "df = df.with_columns([\n",
        "    pl.col(\"email\").str.to_lowercase().str.strip(),\n",
        "    pl.col(\"email\").str.split(\"@\").list.get(1).alias(\"email_domain\")\n",
        "])\n",
        "\n",
        "print(f\"📊 Loaded {len(df)} contacts\")\n",
        "print(f\"📋 Columns: {df.columns}\\n\")\n",
        "df.head(3)"
      ]
    },
    {
      "cell_type": "markdown",
      "metadata": {
        "id": "ex1"
      },
      "source": [
        "---\n",
        "\n",
        "# Exercise 1: Flag Executive-Level Contacts 🎯\n",
        "\n",
        "## Scenario\n",
        "Your agency only wants to reach out to **C-level executives and VPs**. You need to identify these contacts from the title field.\n",
        "\n",
        "## Your Task\n",
        "Create a new column called `is_executive` that is `True` for titles containing:\n",
        "- CEO, CTO, CFO, COO, CMO (any C-level)\n",
        "- VP, Vice President\n",
        "- President, Managing Director\n",
        "\n",
        "## Hints\n",
        "- Use `pl.col(\"title\").str.to_lowercase()` to handle case variations\n",
        "- Use `str.contains()` with the `|` operator for \"or\" matching\n",
        "- Example: `str.contains(\"ceo|cto|cfo\")`\n",
        "\n",
        "## Try It Yourself First!\n",
        "Write your code in the cell below:"
      ]
    },
    {
      "cell_type": "code",
      "execution_count": null,
      "metadata": {
        "id": "ex1-attempt"
      },
      "outputs": [],
      "source": [
        "# Your code here\n",
        "\n",
        "\n"
      ]
    },
    {
      "cell_type": "markdown",
      "metadata": {
        "id": "ex1-solution-title"
      },
      "source": [
        "### ✅ Solution (Click to Expand)\n",
        "\n",
        "<details>\n",
        "<summary>Show Solution</summary>"
      ]
    },
    {
      "cell_type": "code",
      "execution_count": null,
      "metadata": {
        "id": "ex1-solution"
      },
      "outputs": [],
      "source": [
        "# Solution\n",
        "df = df.with_columns([\n",
        "    pl.col(\"title\")\n",
        "      .str.to_lowercase()\n",
        "      .str.contains(\"ceo|cto|cfo|coo|cmo|chief|vp|vice president|president|managing director\")\n",
        "      .fill_null(False)\n",
        "      .alias(\"is_executive\")\n",
        "])\n",
        "\n",
        "# Show results\n",
        "executives = df.filter(pl.col(\"is_executive\"))\n",
        "print(f\"🎯 Found {len(executives)} executives out of {len(df)} total contacts\")\n",
        "print(f\"📊 That's {(len(executives)/len(df)*100):.1f}% of your database\\n\")\n",
        "\n",
        "print(\"Executive contacts:\")\n",
        "executives.select([\"full_name\", \"title\", \"company_name\"]).head(10)"
      ]
    },
    {
      "cell_type": "markdown",
      "metadata": {
        "id": "ex1-solution-end"
      },
      "source": [
        "</details>"
      ]
    },
    {
      "cell_type": "markdown",
      "metadata": {
        "id": "ex1-extension"
      },
      "source": [
        "### 🚀 Extension Challenge\n",
        "\n",
        "Add a `seniority_level` column with values:\n",
        "- \"C-Level\" for CEOs, CTOs, etc.\n",
        "- \"VP\" for Vice Presidents\n",
        "- \"Director\" for Directors\n",
        "- \"Manager\" for Managers\n",
        "- \"Individual Contributor\" for everyone else"
      ]
    },
    {
      "cell_type": "markdown",
      "metadata": {
        "id": "ex2"
      },
      "source": [
        "---\n",
        "\n",
        "# Exercise 2: Calculate Contact Completeness Score 📊\n",
        "\n",
        "## Scenario\n",
        "You want to prioritize outreach to contacts with **complete profiles**. A contact with phone + LinkedIn + title is more valuable than just an email.\n",
        "\n",
        "## Your Task\n",
        "Create a `completeness_percentage` column that shows what % of fields are filled:\n",
        "- Check these fields: `full_name`, `email`, `title`, `phone`, `linkedin`\n",
        "- Calculate: (filled fields / total fields) * 100\n",
        "\n",
        "## Hints\n",
        "- Use `.is_not_null()` to check if a field has data\n",
        "- Cast to integer: `.cast(pl.Int32)`\n",
        "- Add them up, divide by 5, multiply by 100\n",
        "\n",
        "## Try It Yourself:"
      ]
    },
    {
      "cell_type": "code",
      "execution_count": null,
      "metadata": {
        "id": "ex2-attempt"
      },
      "outputs": [],
      "source": [
        "# Your code here\n",
        "\n",
        "\n"
      ]
    },
    {
      "cell_type": "markdown",
      "metadata": {
        "id": "ex2-solution-title"
      },
      "source": [
        "### ✅ Solution\n",
        "\n",
        "<details>\n",
        "<summary>Show Solution</summary>"
      ]
    },
    {
      "cell_type": "code",
      "execution_count": null,
      "metadata": {
        "id": "ex2-solution"
      },
      "outputs": [],
      "source": [
        "# Solution\n",
        "df = df.with_columns([\n",
        "    (\n",
        "        (\n",
        "            pl.col(\"full_name\").is_not_null().cast(pl.Int32) +\n",
        "            pl.col(\"email\").is_not_null().cast(pl.Int32) +\n",
        "            pl.col(\"title\").is_not_null().cast(pl.Int32) +\n",
        "            pl.col(\"phone\").is_not_null().cast(pl.Int32) +\n",
        "            pl.col(\"linkedin\").is_not_null().cast(pl.Int32)\n",
        "        ) / 5.0 * 100\n",
        "    ).round(0).cast(pl.Int32).alias(\"completeness_percentage\")\n",
        "])\n",
        "\n",
        "# Show distribution\n",
        "print(\"📊 Completeness Distribution:\\n\")\n",
        "print(df.group_by(\"completeness_percentage\").count().sort(\"completeness_percentage\", descending=True))\n",
        "\n",
        "print(\"\\n🏆 Most complete profiles:\")\n",
        "print(df.sort(\"completeness_percentage\", descending=True).select([\n",
        "    \"full_name\", \"email\", \"title\", \"phone\", \"linkedin\", \"completeness_percentage\"\n",
        "]).head(5))\n",
        "\n",
        "print(\"\\n⚠️ Least complete profiles:\")\n",
        "print(df.sort(\"completeness_percentage\").select([\n",
        "    \"full_name\", \"email\", \"title\", \"phone\", \"linkedin\", \"completeness_percentage\"\n",
        "]).head(5))"
      ]
    },
    {
      "cell_type": "markdown",
      "metadata": {
        "id": "ex2-solution-end"
      },
      "source": [
        "</details>"
      ]
    },
    {
      "cell_type": "markdown",
      "metadata": {
        "id": "ex2-extension"
      },
      "source": [
        "### 🚀 Extension Challenge\n",
        "\n",
        "Add a `priority_tier` column:\n",
        "- \"A\" for completeness >= 80%\n",
        "- \"B\" for completeness >= 60%\n",
        "- \"C\" for completeness < 60%\n",
        "\n",
        "Then count how many contacts are in each tier."
      ]
    },
    {
      "cell_type": "markdown",
      "metadata": {
        "id": "ex3"
      },
      "source": [
        "---\n",
        "\n",
        "# Exercise 3: Identify Target Industries 🏢\n",
        "\n",
        "## Scenario\n",
        "Your agency specializes in **SaaS, Technology, and Software companies**. You need to filter your contact list to only show contacts from these industries.\n",
        "\n",
        "## Your Task\n",
        "1. Create a list of target industries: `[\"Software\", \"Technology\", \"SaaS\", \"Tech\"]`\n",
        "2. Filter contacts where `company_name` industry matches (you'll need to infer from company name for this dataset)\n",
        "3. Count how many target vs non-target contacts you have\n",
        "\n",
        "**Note:** Since this dataset doesn't have industry field, identify tech companies by keywords in company name like \"tech\", \"digital\", \"software\", \"solutions\", \"labs\"\n",
        "\n",
        "## Hints\n",
        "- Use `str.to_lowercase()` first\n",
        "- Use `str.contains()` with multiple keywords\n",
        "- Create an `is_target_industry` boolean column\n",
        "\n",
        "## Try It:"
      ]
    },
    {
      "cell_type": "code",
      "execution_count": null,
      "metadata": {
        "id": "ex3-attempt"
      },
      "outputs": [],
      "source": [
        "# Your code here\n",
        "\n",
        "\n"
      ]
    },
    {
      "cell_type": "markdown",
      "metadata": {
        "id": "ex3-solution-title"
      },
      "source": [
        "### ✅ Solution\n",
        "\n",
        "<details>\n",
        "<summary>Show Solution</summary>"
      ]
    },
    {
      "cell_type": "code",
      "execution_count": null,
      "metadata": {
        "id": "ex3-solution"
      },
      "outputs": [],
      "source": [
        "# Solution\n",
        "df = df.with_columns([\n",
        "    pl.col(\"company_name\")\n",
        "      .str.to_lowercase()\n",
        "      .str.contains(\"tech|software|digital|solutions|labs|systems|data|cloud|saas|analytics|ai\")\n",
        "      .fill_null(False)\n",
        "      .alias(\"is_target_industry\")\n",
        "])\n",
        "\n",
        "# Count breakdown\n",
        "target_count = df.filter(pl.col(\"is_target_industry\")).height\n",
        "total_count = len(df)\n",
        "\n",
        "print(f\"🎯 Target Industry Contacts: {target_count}\")\n",
        "print(f\"📊 Other Industries: {total_count - target_count}\")\n",
        "print(f\"📈 Target %: {(target_count/total_count*100):.1f}%\\n\")\n",
        "\n",
        "print(\"Sample target companies:\")\n",
        "print(df.filter(pl.col(\"is_target_industry\")).select([\n",
        "    \"company_name\", \"full_name\", \"title\"\n",
        "]).head(10))"
      ]
    },
    {
      "cell_type": "markdown",
      "metadata": {
        "id": "ex3-solution-end"
      },
      "source": [
        "</details>"
      ]
    },
    {
      "cell_type": "markdown",
      "metadata": {
        "id": "ex3-extension"
      },
      "source": [
        "### 🚀 Extension Challenge\n",
        "\n",
        "Create an `industry_category` column that classifies companies into:\n",
        "- \"Tech/Software\"\n",
        "- \"Consulting\"\n",
        "- \"Marketing/Digital\"\n",
        "- \"Finance\"\n",
        "- \"Other\"\n",
        "\n",
        "Based on keywords in the company name."
      ]
    },
    {
      "cell_type": "markdown",
      "metadata": {
        "id": "ex4"
      },
      "source": [
        "---\n",
        "\n",
        "# Exercise 4: Extract First Names for Personalization 👋\n",
        "\n",
        "## Scenario\n",
        "For email personalization, you need **first names**. But your data only has `full_name` like \"Sarah Johnson\" or \"Michael Chen\".\n",
        "\n",
        "## Your Task\n",
        "Extract the first name from `full_name` into a new `first_name` column.\n",
        "\n",
        "## Hints\n",
        "- Use `str.split(\" \")` to split name by space\n",
        "- Use `.list.get(0)` to get the first element\n",
        "- Handle cases where full_name might be null\n",
        "\n",
        "## Try It:"
      ]
    },
    {
      "cell_type": "code",
      "execution_count": null,
      "metadata": {
        "id": "ex4-attempt"
      },
      "outputs": [],
      "source": [
        "# Your code here\n",
        "\n",
        "\n"
      ]
    },
    {
      "cell_type": "markdown",
      "metadata": {
        "id": "ex4-solution-title"
      },
      "source": [
        "### ✅ Solution\n",
        "\n",
        "<details>\n",
        "<summary>Show Solution</summary>"
      ]
    },
    {
      "cell_type": "code",
      "execution_count": null,
      "metadata": {
        "id": "ex4-solution"
      },
      "outputs": [],
      "source": [
        "# Solution\n",
        "df = df.with_columns([\n",
        "    pl.col(\"full_name\")\n",
        "      .str.split(\" \")\n",
        "      .list.get(0)\n",
        "      .alias(\"first_name\")\n",
        "])\n",
        "\n",
        "print(\"✅ First names extracted!\\n\")\n",
        "print(df.select([\"full_name\", \"first_name\", \"email\"]).head(10))\n",
        "\n",
        "# Most common first names\n",
        "print(\"\\n📊 Most common first names:\")\n",
        "print(df.group_by(\"first_name\").count().sort(\"count\", descending=True).head(10))"
      ]
    },
    {
      "cell_type": "markdown",
      "metadata": {
        "id": "ex4-solution-end"
      },
      "source": [
        "</details>"
      ]
    },
    {
      "cell_type": "markdown",
      "metadata": {
        "id": "ex4-extension"
      },
      "source": [
        "### 🚀 Extension Challenge\n",
        "\n",
        "Also extract `last_name` (hint: use `.list.get(-1)` for last element).\n",
        "\n",
        "Then create an `email_greeting` column that formats as:\n",
        "- \"Hi Sarah,\" if first_name exists\n",
        "- \"Hi there,\" if first_name is null"
      ]
    },
    {
      "cell_type": "markdown",
      "metadata": {
        "id": "ex5"
      },
      "source": [
        "---\n",
        "\n",
        "# Exercise 5: Flag VIP Companies 🌟\n",
        "\n",
        "## Scenario\n",
        "Your agency has a **VIP target list** of dream clients. You want to flag any contacts from these companies for special handling.\n",
        "\n",
        "## Your Task\n",
        "1. Create a list of VIP domains: `[\"acme-corp.com\", \"globalventures.com\", \"quantum-sol.com\"]`\n",
        "2. Create an `is_vip` column that checks if `email_domain` is in the VIP list\n",
        "3. Show how many VIP contacts you have\n",
        "\n",
        "## Hints\n",
        "- Use `pl.col(\"email_domain\").is_in([list_of_domains])`\n",
        "- This returns a boolean (True/False)\n",
        "\n",
        "## Try It:"
      ]
    },
    {
      "cell_type": "code",
      "execution_count": null,
      "metadata": {
        "id": "ex5-attempt"
      },
      "outputs": [],
      "source": [
        "# Your code here\n",
        "\n",
        "\n"
      ]
    },
    {
      "cell_type": "markdown",
      "metadata": {
        "id": "ex5-solution-title"
      },
      "source": [
        "### ✅ Solution\n",
        "\n",
        "<details>\n",
        "<summary>Show Solution</summary>"
      ]
    },
    {
      "cell_type": "code",
      "execution_count": null,
      "metadata": {
        "id": "ex5-solution"
      },
      "outputs": [],
      "source": [
        "# Solution\n",
        "vip_domains = [\"acme-corp.com\", \"globalventures.com\", \"quantum-sol.com\", \"momentumgroup.com\"]\n",
        "\n",
        "df = df.with_columns([\n",
        "    pl.col(\"email_domain\")\n",
        "      .is_in(vip_domains)\n",
        "      .alias(\"is_vip\")\n",
        "])\n",
        "\n",
        "vip_contacts = df.filter(pl.col(\"is_vip\"))\n",
        "\n",
        "print(f\"🌟 VIP Contacts: {len(vip_contacts)}\")\n",
        "print(f\"📊 Regular Contacts: {len(df) - len(vip_contacts)}\\n\")\n",
        "\n",
        "print(\"VIP Contact List:\")\n",
        "print(vip_contacts.select([\n",
        "    \"full_name\", \"title\", \"company_name\", \"email\"\n",
        "]))"
      ]
    },
    {
      "cell_type": "markdown",
      "metadata": {
        "id": "ex5-solution-end"
      },
      "source": [
        "</details>"
      ]
    },
    {
      "cell_type": "markdown",
      "metadata": {
        "id": "ex5-extension"
      },
      "source": [
        "### 🚀 Extension Challenge\n",
        "\n",
        "Create a `company_tier` column:\n",
        "- \"Tier 1\" for VIP companies\n",
        "- \"Tier 2\" for companies with 3+ contacts in your database\n",
        "- \"Tier 3\" for everyone else\n",
        "\n",
        "Hint: Count contacts per `email_domain` first!"
      ]
    },
    {
      "cell_type": "markdown",
      "metadata": {
        "id": "ex6"
      },
      "source": [
        "---\n",
        "\n",
        "# Exercise 6: Create a Data Quality Report 📈\n",
        "\n",
        "## Scenario\n",
        "Your boss asks: \"How clean is this data?\" You need to generate a **quality report** showing:\n",
        "- Total contacts\n",
        "- % with phone numbers\n",
        "- % with LinkedIn profiles\n",
        "- % with job titles\n",
        "- % that are executives\n",
        "\n",
        "## Your Task\n",
        "Calculate these metrics and print a formatted report.\n",
        "\n",
        "## Hints\n",
        "- Use `.filter(pl.col(\"field\").is_not_null()).height` to count non-null\n",
        "- Divide by total count and multiply by 100 for percentage\n",
        "- Use f-strings for formatting: `f\"{value:.1f}%\"`\n",
        "\n",
        "## Try It:"
      ]
    },
    {
      "cell_type": "code",
      "execution_count": null,
      "metadata": {
        "id": "ex6-attempt"
      },
      "outputs": [],
      "source": [
        "# Your code here\n",
        "\n",
        "\n"
      ]
    },
    {
      "cell_type": "markdown",
      "metadata": {
        "id": "ex6-solution-title"
      },
      "source": [
        "### ✅ Solution\n",
        "\n",
        "<details>\n",
        "<summary>Show Solution</summary>"
      ]
    },
    {
      "cell_type": "code",
      "execution_count": null,
      "metadata": {
        "id": "ex6-solution"
      },
      "outputs": [],
      "source": [
        "# Solution\n",
        "total = len(df)\n",
        "with_phone = df.filter(pl.col(\"phone\").is_not_null()).height\n",
        "with_linkedin = df.filter(pl.col(\"linkedin\").is_not_null()).height\n",
        "with_title = df.filter(pl.col(\"title\").is_not_null()).height\n",
        "executives = df.filter(pl.col(\"is_executive\")).height if \"is_executive\" in df.columns else 0\n",
        "vip = df.filter(pl.col(\"is_vip\")).height if \"is_vip\" in df.columns else 0\n",
        "\n",
        "print(\"=\"*60)\n",
        "print(\"📊 DATA QUALITY REPORT\")\n",
        "print(\"=\"*60)\n",
        "print(f\"\\n📈 Database Overview:\")\n",
        "print(f\"  Total Contacts: {total}\")\n",
        "print(f\"\\n📞 Contact Information Completeness:\")\n",
        "print(f\"  With Phone Numbers:    {with_phone:4} ({with_phone/total*100:5.1f}%)\")\n",
        "print(f\"  With LinkedIn Profiles: {with_linkedin:4} ({with_linkedin/total*100:5.1f}%)\")\n",
        "print(f\"  With Job Titles:        {with_title:4} ({with_title/total*100:5.1f}%)\")\n",
        "print(f\"\\n🎯 Strategic Segments:\")\n",
        "print(f\"  Executive Level:        {executives:4} ({executives/total*100:5.1f}%)\")\n",
        "print(f\"  VIP Companies:          {vip:4} ({vip/total*100:5.1f}%)\")\n",
        "print(f\"\\n💡 Quality Grade: \", end=\"\")\n",
        "\n",
        "avg_completeness = (with_phone + with_linkedin + with_title) / (total * 3) * 100\n",
        "if avg_completeness >= 70:\n",
        "    print(\"A (Excellent) ✅\")\n",
        "elif avg_completeness >= 50:\n",
        "    print(\"B (Good) 👍\")\n",
        "elif avg_completeness >= 30:\n",
        "    print(\"C (Fair) ⚠️\")\n",
        "else:\n",
        "    print(\"D (Needs Work) ⛔\")\n",
        "\n",
        "print(f\"  Average Field Completeness: {avg_completeness:.1f}%\")\n",
        "print(\"=\"*60)"
      ]
    },
    {
      "cell_type": "markdown",
      "metadata": {
        "id": "ex6-solution-end"
      },
      "source": [
        "</details>"
      ]
    },
    {
      "cell_type": "markdown",
      "metadata": {
        "id": "ex6-extension"
      },
      "source": [
        "### 🚀 Extension Challenge\n",
        "\n",
        "Add sections to the report:\n",
        "- Geographic distribution (% by country)\n",
        "- Top 5 companies by contact count\n",
        "- Data quality trends (if you had date_added field)"
      ]
    },
{
      "cell_type": "markdown",
      "metadata": {
        "id": "ex7"
      },
      "source": [
        "---\n",
        "\n",
        "# Exercise 7: Build a Custom Outreach List 🚀\n",
        "\n",
        "## Scenario\n",
        "You're launching a campaign and need a **high-priority outreach list**:\n",
        "- Executive level contacts\n",
        "- From tech companies\n",
        "- With completeness >= 60%\n",
        "- Sorted by completeness (best first)\n",
        "\n",
        "## Your Task\n",
        "Filter the data using all the columns you've created, then export to CSV.\n",
        "\n",
        "## Hints\n",
        "- Use multiple `.filter()` statements or combine with `&`\n",
        "- Use `.sort()` to order results\n",
        "- Use `.write_csv()` to export\n",
        "\n",
        "## Try It:"
      ]
    },
    {
      "cell_type": "code",
      "execution_count": null,
      "metadata": {
        "id": "ex7-attempt"
      },
      "outputs": [],
      "source": [
        "# Your code here\n",
        "\n",
        "\n"
      ]
    },
    {
      "cell_type": "markdown",
      "metadata": {
        "id": "ex7-solution-title"
      },
      "source": [
        "### ✅ Solution\n",
        "\n",
        "<details>\n",
        "<summary>Show Solution</summary>"
      ]
    },
    {
      "cell_type": "code",
      "execution_count": null,
      "metadata": {
        "id": "ex7-solution"
      },
      "outputs": [],
      "source": [
        "# Solution\n",
        "outreach_list = (\n",
        "    df\n",
        "    .filter(\n",
        "        pl.col(\"is_executive\") &\n",
        "        pl.col(\"is_target_industry\") &\n",
        "        (pl.col(\"completeness_percentage\") >= 60)\n",
        "    )\n",
        "    .sort(\"completeness_percentage\", descending=True)\n",
        "    .select([\n",
        "        \"first_name\",\n",
        "        \"full_name\",\n",
        "        \"title\",\n",
        "        \"email\",\n",
        "        \"phone\",\n",
        "        \"linkedin\",\n",
        "        \"company_name\",\n",
        "        \"completeness_percentage\",\n",
        "        \"is_vip\"\n",
        "    ])\n",
        ")\n",
        "\n",
        "print(f\"🎯 High-Priority Outreach List: {len(outreach_list)} contacts\\n\")\n",
        "print(outreach_list.head(10))\n",
        "\n",
        "# Export to CSV\n",
        "outreach_list.write_csv(\"high_priority_outreach.csv\")\n",
        "print(\"\\n✅ Exported to: high_priority_outreach.csv\")\n",
        "print(\"💾 Download it from the files panel on the left →\")"
      ]
    },
    {
      "cell_type": "markdown",
      "metadata": {
        "id": "ex7-solution-end"
      },
      "source": [
        "</details>"
      ]
    },
    {
      "cell_type": "markdown",
      "metadata": {
        "id": "ex7-extension"
      },
      "source": [
        "### 🚀 Extension Challenge\n",
        "\n",
        "Create 3 separate lists:\n",
        "1. **Tier A:** VIP executives with 100% completeness\n",
        "2. **Tier B:** Non-VIP executives with 80%+ completeness\n",
        "3. **Tier C:** All other target industry contacts\n",
        "\n",
        "Export each to a separate CSV."
      ]
    },
    {
      "cell_type": "markdown",
      "metadata": {
        "id": "ex8"
      },
      "source": [
        "---\n",
        "\n",
        "# Exercise 8: Create a Contact Scoring System 🏆\n",
        "\n",
        "## Scenario\n",
        "Score every contact based on:\n",
        "- Executive: +10 points\n",
        "- VIP company: +15 points\n",
        "- Target industry: +5 points\n",
        "- Has phone: +3 points\n",
        "- Has LinkedIn: +2 points\n",
        "- +1 point per 10% completeness\n",
        "\n",
        "## Your Task\n",
        "Create `contact_score` column. Segment into Hot (30+), Warm (20-29), Cold (<20).\n",
        "\n",
        "## Try It:"
      ]
    },
    {
      "cell_type": "code",
      "execution_count": null,
      "metadata": {
        "id": "ex8-attempt"
      },
      "outputs": [],
      "source": [
        "# Your code here\n",
        "\n"
      ]
    },
    {
      "cell_type": "markdown",
      "metadata": {
        "id": "ex8-solution-title"
      },
      "source": [
        "### ✅ Solution\n",
        "\n",
        "<details>\n",
        "<summary>Show Solution</summary>"
      ]
    },
    {
      "cell_type": "code",
      "execution_count": null,
      "metadata": {
        "id": "ex8-solution"
      },
      "outputs": [],
      "source": [
        "# Solution\n",
        "df = df.with_columns([\n",
        "    (\n",
        "        (pl.col(\"is_executive\").cast(pl.Int32) * 10) +\n",
        "        (pl.col(\"is_vip\").cast(pl.Int32) * 15) +\n",
        "        (pl.col(\"is_target_industry\").cast(pl.Int32) * 5) +\n",
        "        (pl.col(\"phone\").is_not_null().cast(pl.Int32) * 3) +\n",
        "        (pl.col(\"linkedin\").is_not_null().cast(pl.Int32) * 2) +\n",
        "        (pl.col(\"completeness_percentage\") / 10).cast(pl.Int32)\n",
        "    ).alias(\"contact_score\")\n",
        "])\n",
        "\n",
        "df = df.with_columns([\n",
        "    pl.when(pl.col(\"contact_score\") >= 30)\n",
        "      .then(pl.lit(\"Hot 🔥\"))\n",
        "      .when(pl.col(\"contact_score\") >= 20)\n",
        "      .then(pl.lit(\"Warm 🌡️\"))\n",
        "      .otherwise(pl.lit(\"Cold ❄️\"))\n",
        "      .alias(\"lead_temperature\")\n",
        "])\n",
        "\n",
        "print(\"🏆 Contact Scoring Results:\\n\")\n",
        "print(df.group_by(\"lead_temperature\").count().sort(\"count\", descending=True))\n",
        "\n",
        "print(\"\\n🔥 Top 10 Hottest Leads:\")\n",
        "print(df.sort(\"contact_score\", descending=True).select([\n",
        "    \"full_name\", \"title\", \"company_name\", \"contact_score\", \"lead_temperature\"\n",
        "]).head(10))"
      ]
    },
    {
      "cell_type": "markdown",
      "metadata": {
        "id": "ex8-end"
      },
      "source": [
        "</details>\n",
        "\n",
        "---\n",
        "\n",
        "## 🎓 Congratulations!\n",
        "\n",
        "You can now segment, score, filter, and export contact lists like a pro.\n",
        "\n",
        "**Next:** Try with your own data, or build the full pipeline at [GitHub](https://github.com/billiondottech/agency-data-onboarding-kit)\n",
        "\n",
        "**Questions?** Join [Billion community](https://billion-blog.com)"
      ]
    }
  ]
}